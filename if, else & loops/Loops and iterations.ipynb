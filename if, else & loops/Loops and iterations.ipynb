{
 "metadata": {
  "language_info": {
   "codemirror_mode": {
    "name": "ipython",
    "version": 3
   },
   "file_extension": ".py",
   "mimetype": "text/x-python",
   "name": "python",
   "nbconvert_exporter": "python",
   "pygments_lexer": "ipython3",
   "version": "3.9.2"
  },
  "orig_nbformat": 2,
  "kernelspec": {
   "name": "python392jvsc74a57bd02192c3c09e545d836aa2fc2fa60954c6c0ce974528ecc4af4f8833e1556a1524",
   "display_name": "Python 3.9.2 64-bit"
  },
  "metadata": {
   "interpreter": {
    "hash": "2192c3c09e545d836aa2fc2fa60954c6c0ce974528ecc4af4f8833e1556a1524"
   }
  }
 },
 "nbformat": 4,
 "nbformat_minor": 2,
 "cells": [
  {
   "source": [
    "# Python Basics"
   ],
   "cell_type": "markdown",
   "metadata": {}
  },
  {
   "source": [
    "## Working with Loops and iterations"
   ],
   "cell_type": "markdown",
   "metadata": {}
  },
  {
   "source": [
    "### We will study about for loops and while loops"
   ],
   "cell_type": "markdown",
   "metadata": {}
  },
  {
   "source": [
    "### for loops:"
   ],
   "cell_type": "markdown",
   "metadata": {}
  },
  {
   "cell_type": "code",
   "execution_count": 1,
   "metadata": {},
   "outputs": [
    {
     "output_type": "stream",
     "name": "stdout",
     "text": [
      "2\n4\n1\n6\n3\n"
     ]
    }
   ],
   "source": [
    "nums=[2,4,1,6,3]\n",
    "for num in nums:\n",
    "    print(num)"
   ]
  },
  {
   "source": [
    "'break' and 'continue' statements work exactly as they would work in C/C++."
   ],
   "cell_type": "markdown",
   "metadata": {}
  },
  {
   "cell_type": "code",
   "execution_count": 2,
   "metadata": {},
   "outputs": [
    {
     "output_type": "stream",
     "name": "stdout",
     "text": [
      "2\n4\nFound it!\n"
     ]
    }
   ],
   "source": [
    "nums=[2,4,1,6,3]\n",
    "for num in nums:\n",
    "    if(num==1):\n",
    "        print(\"Found it!\")\n",
    "        break\n",
    "    print(num)"
   ]
  },
  {
   "cell_type": "code",
   "execution_count": 3,
   "metadata": {},
   "outputs": [
    {
     "output_type": "stream",
     "name": "stdout",
     "text": [
      "2\n4\nFound it!\n6\n3\n"
     ]
    }
   ],
   "source": [
    "nums=[2,4,1,6,3]\n",
    "for num in nums:\n",
    "    if(num==1):\n",
    "        print(\"Found it!\")\n",
    "        continue\n",
    "    print(num)"
   ]
  },
  {
   "source": [
    "range() function:  \n",
    "we pass in an integer argument into the range function  \n",
    "range(i) \n",
    "for i in range(10): is done, i initially starts from 0 then stops at i=9  \n",
    "it is like i < 10 so it comes out of the loop when i = 10."
   ],
   "cell_type": "markdown",
   "metadata": {}
  },
  {
   "cell_type": "code",
   "execution_count": 4,
   "metadata": {},
   "outputs": [
    {
     "output_type": "stream",
     "name": "stdout",
     "text": [
      "0\n1\n2\n3\n4\n"
     ]
    }
   ],
   "source": [
    "for i in range(10):\n",
    "    if i==5:\n",
    "        break\n",
    "    print(i)"
   ]
  },
  {
   "source": [
    "If we want i to start from somewhere not 0 then we can pass in a argument  \n",
    "like range( desired_i_value , number_to_stop )"
   ],
   "cell_type": "markdown",
   "metadata": {}
  },
  {
   "cell_type": "code",
   "execution_count": 5,
   "metadata": {},
   "outputs": [
    {
     "output_type": "stream",
     "name": "stdout",
     "text": [
      "985\n986\n987\n988\n989\n990\n991\n992\n993\n994\n995\n996\n997\n998\n999\n1000\n"
     ]
    }
   ],
   "source": [
    "for i in range(985,1001): # i starts from 985 and breaks out of the loop when i==1001 \n",
    "    print(i)"
   ]
  },
  {
   "cell_type": "code",
   "execution_count": 6,
   "metadata": {},
   "outputs": [
    {
     "output_type": "stream",
     "name": "stdout",
     "text": [
      "2\n4\nFound it!\n"
     ]
    }
   ],
   "source": [
    "nums=[2,4,1,6,3]\n",
    "for i in range(len(nums)):\n",
    "    if(nums[i]==1):\n",
    "        print(\"Found it!\")\n",
    "        break\n",
    "    print(nums[i])"
   ]
  },
  {
   "source": [
    "### while loops:"
   ],
   "cell_type": "markdown",
   "metadata": {}
  },
  {
   "cell_type": "code",
   "execution_count": 7,
   "metadata": {},
   "outputs": [
    {
     "output_type": "stream",
     "name": "stdout",
     "text": [
      "0\n1\n2\n3\n4\n5\n6\n7\n8\n9\n"
     ]
    }
   ],
   "source": [
    "i=0\n",
    "while i<10:\n",
    "    print(i)\n",
    "    i+=1"
   ]
  },
  {
   "cell_type": "code",
   "execution_count": 8,
   "metadata": {},
   "outputs": [
    {
     "output_type": "stream",
     "name": "stdout",
     "text": [
      "6\n"
     ]
    }
   ],
   "source": [
    "i=1\n",
    "while i<10:\n",
    "    if i==3:\n",
    "        i+=1\n",
    "        continue\n",
    "    else:\n",
    "        if (i%3)==0:\n",
    "            print(i)\n",
    "            break\n",
    "    i+=1"
   ]
  },
  {
   "source": [
    "***Creating an infinite loop:***"
   ],
   "cell_type": "markdown",
   "metadata": {}
  },
  {
   "cell_type": "code",
   "execution_count": 9,
   "metadata": {},
   "outputs": [
    {
     "output_type": "stream",
     "name": "stdout",
     "text": [
      "0\n1\n2\n3\n4\n5\n"
     ]
    }
   ],
   "source": [
    "i=0\n",
    "while True:\n",
    "    print(i)\n",
    "    if(i==5):\n",
    "        break\n",
    "    i+=1"
   ]
  },
  {
   "source": [
    "***That's all to learn about Loops and iterations.***"
   ],
   "cell_type": "markdown",
   "metadata": {}
  }
 ]
}