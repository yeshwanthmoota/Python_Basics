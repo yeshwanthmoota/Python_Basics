{
 "metadata": {
  "language_info": {
   "codemirror_mode": {
    "name": "ipython",
    "version": 3
   },
   "file_extension": ".py",
   "mimetype": "text/x-python",
   "name": "python",
   "nbconvert_exporter": "python",
   "pygments_lexer": "ipython3",
   "version": "3.9.2"
  },
  "orig_nbformat": 2,
  "kernelspec": {
   "name": "python392jvsc74a57bd02192c3c09e545d836aa2fc2fa60954c6c0ce974528ecc4af4f8833e1556a1524",
   "display_name": "Python 3.9.2 64-bit"
  },
  "metadata": {
   "interpreter": {
    "hash": "2192c3c09e545d836aa2fc2fa60954c6c0ce974528ecc4af4f8833e1556a1524"
   }
  }
 },
 "nbformat": 4,
 "nbformat_minor": 2,
 "cells": [
  {
   "source": [
    "# Python Basics"
   ],
   "cell_type": "markdown",
   "metadata": {}
  },
  {
   "source": [
    "## Working with Conditionals and Booleans"
   ],
   "cell_type": "markdown",
   "metadata": {}
  },
  {
   "source": [
    "**Comparisons:**  \n",
    "Equal:            ==  \n",
    "Not Equal:        !=  \n",
    "Greater Than:     >  \n",
    "Less Than:        <  \n",
    "Greater or Equal: >=  \n",
    "Less or Equal:    <=  \n",
    "Object Identity:  is  \n",
    "\n",
    "We will see what object identity is later in this notebook.  \n",
    "The rest of the comparisons work the exact same way as they would in C/C++."
   ],
   "cell_type": "markdown",
   "metadata": {}
  },
  {
   "cell_type": "code",
   "execution_count": 2,
   "metadata": {},
   "outputs": [
    {
     "output_type": "stream",
     "name": "stdout",
     "text": [
      "Condition was True\n"
     ]
    }
   ],
   "source": [
    "if True:\n",
    "    print(\"Condition was True\")\n",
    "else:\n",
    "    print(\"Condition was False\")\n"
   ]
  },
  {
   "cell_type": "code",
   "execution_count": 9,
   "metadata": {},
   "outputs": [
    {
     "output_type": "stream",
     "name": "stdout",
     "text": [
      "What nonsense!\n"
     ]
    }
   ],
   "source": [
    "x=\"hello yay\"\n",
    "if x==\"hello\":\n",
    "    print(\"x is hello\")\n",
    "else:\n",
    "    print(\"What nonsense!\")\n"
   ]
  },
  {
   "source": [
    "***if-elif-else***"
   ],
   "cell_type": "markdown",
   "metadata": {}
  },
  {
   "cell_type": "code",
   "execution_count": 10,
   "metadata": {},
   "outputs": [
    {
     "output_type": "stream",
     "name": "stdout",
     "text": [
      "True\n"
     ]
    }
   ],
   "source": [
    "x=\"Java\"\n",
    "if x==\"Python\":\n",
    "    print(\"True\")\n",
    "elif x==\"Java\":\n",
    "    print(\"True\")\n",
    "else:\n",
    "    print(\"False\")"
   ]
  },
  {
   "source": [
    "***and-or-not***"
   ],
   "cell_type": "markdown",
   "metadata": {}
  },
  {
   "cell_type": "code",
   "execution_count": 12,
   "metadata": {},
   "outputs": [
    {
     "output_type": "stream",
     "name": "stdout",
     "text": [
      "True\n"
     ]
    }
   ],
   "source": [
    "x=\"java\"\n",
    "if x==\"Python\" or \"python\":\n",
    "    print(\"True\")\n",
    "elif x==\"Java\" or \"java\":\n",
    "    print(\"True\")\n",
    "else:\n",
    "    print(\"False\")"
   ]
  },
  {
   "cell_type": "code",
   "execution_count": 14,
   "metadata": {},
   "outputs": [
    {
     "output_type": "stream",
     "name": "stdout",
     "text": [
      "Welcome\n"
     ]
    }
   ],
   "source": [
    "user=\"admin\"\n",
    "loggedIn=True\n",
    "if user==\"admin\" and loggedIn:\n",
    "    print(\"Welcome\")\n",
    "else:\n",
    "    print(\"Wrong credentials\")"
   ]
  },
  {
   "cell_type": "code",
   "execution_count": 15,
   "metadata": {},
   "outputs": [
    {
     "output_type": "stream",
     "name": "stdout",
     "text": [
      "Wrong credentials\n"
     ]
    }
   ],
   "source": [
    "user=\"admin\"\n",
    "loggedIn=False\n",
    "if user==\"admin\" and loggedIn:\n",
    "    print(\"Welcome\")\n",
    "else:\n",
    "    print(\"Wrong credentials\")"
   ]
  },
  {
   "cell_type": "code",
   "execution_count": 20,
   "metadata": {},
   "outputs": [
    {
     "output_type": "stream",
     "name": "stdout",
     "text": [
      "Welcome\n"
     ]
    }
   ],
   "source": [
    "user==\"admin\"\n",
    "if not loggedIn:\n",
    "    print(\"Please Log in\")\n",
    "else:\n",
    "    print(\"Welcome\")"
   ]
  },
  {
   "cell_type": "code",
   "execution_count": 19,
   "metadata": {},
   "outputs": [
    {
     "output_type": "stream",
     "name": "stdout",
     "text": [
      "Welcome\n"
     ]
    }
   ],
   "source": [
    "user==\"admin\"\n",
    "if user != \"admin\":\n",
    "    print(\"Only admin have access to this site\")\n",
    "else:\n",
    "    print(\"Welcome\")"
   ]
  },
  {
   "cell_type": "code",
   "execution_count": 21,
   "metadata": {},
   "outputs": [
    {
     "output_type": "stream",
     "name": "stdout",
     "text": [
      "Hi\n"
     ]
    }
   ],
   "source": [
    "if 3<4 and 5<=5:\n",
    "    print(\"Hi\")\n",
    "else:\n",
    "    print(\"Bye\")"
   ]
  },
  {
   "cell_type": "code",
   "execution_count": 22,
   "metadata": {},
   "outputs": [
    {
     "output_type": "stream",
     "name": "stdout",
     "text": [
      "Hi\n"
     ]
    }
   ],
   "source": [
    "if 4>3 and 6>=5:\n",
    "    print(\"Hi\")\n",
    "else:\n",
    "    print(\"Bye\")"
   ]
  },
  {
   "source": [
    "'is' is used to check if both the objects are the same or not  \n",
    "i.e. they check the object identity not the object value  \n",
    "\n",
    "\n",
    "if both values have same value it is not necessary that they are same  \n",
    "even though they have the same value if they are stored in different memory locations  \n",
    "They are not considered the same\n",
    "\n",
    "'is' is used to check if both the variables are pointing to the same address or not.  \n",
    "Obviously if they point to the same address their values would be the same\n",
    "\n",
    "to check the address of a variable as we would do &var in C/C++  \n",
    "here we use id() method to access the address of that variable.  \n",
    "This process is demonstrated below:"
   ],
   "cell_type": "markdown",
   "metadata": {}
  },
  {
   "cell_type": "code",
   "execution_count": 24,
   "metadata": {},
   "outputs": [
    {
     "output_type": "stream",
     "name": "stdout",
     "text": [
      "True\n"
     ]
    }
   ],
   "source": [
    "a=[5,4,3]\n",
    "b=[5,4,3]\n",
    "print(a==b)"
   ]
  },
  {
   "cell_type": "code",
   "execution_count": 25,
   "metadata": {},
   "outputs": [
    {
     "output_type": "stream",
     "name": "stdout",
     "text": [
      "False\n"
     ]
    }
   ],
   "source": [
    "a=[5,4,3]\n",
    "b=[5,4,3]\n",
    "print(a is b)"
   ]
  },
  {
   "cell_type": "code",
   "execution_count": 27,
   "metadata": {},
   "outputs": [
    {
     "output_type": "stream",
     "name": "stdout",
     "text": [
      "2573577610368\n2573584206016\n"
     ]
    }
   ],
   "source": [
    "a=[5,4,3]\n",
    "b=[5,4,3]\n",
    "print(id(a))\n",
    "print(id(b))"
   ]
  },
  {
   "cell_type": "code",
   "execution_count": 26,
   "metadata": {},
   "outputs": [
    {
     "output_type": "stream",
     "name": "stdout",
     "text": [
      "True\nTrue\n"
     ]
    }
   ],
   "source": [
    "a=[5,4,3]\n",
    "b=a\n",
    "print(a==b)\n",
    "print(a is b)"
   ]
  },
  {
   "cell_type": "code",
   "execution_count": 28,
   "metadata": {},
   "outputs": [
    {
     "output_type": "stream",
     "name": "stdout",
     "text": [
      "2573573995840\n2573573995840\n"
     ]
    }
   ],
   "source": [
    "a=[5,4,3]\n",
    "b=a\n",
    "print(id(a))\n",
    "print(id(b))"
   ]
  },
  {
   "cell_type": "code",
   "execution_count": 30,
   "metadata": {},
   "outputs": [
    {
     "output_type": "stream",
     "name": "stdout",
     "text": [
      "False\n"
     ]
    }
   ],
   "source": [
    "a=[5,4,3]\n",
    "b=[5,4,3]\n",
    "# print(a is b) # Writing this is same as what's written below\n",
    "print(id(a) == id(b))"
   ]
  },
  {
   "cell_type": "code",
   "execution_count": 29,
   "metadata": {},
   "outputs": [
    {
     "output_type": "stream",
     "name": "stdout",
     "text": [
      "True\n"
     ]
    }
   ],
   "source": [
    "a=[5,4,3]\n",
    "b=a\n",
    "# print(a is b) # Writing this is same as what's written below\n",
    "print(id(a) == id(b))"
   ]
  },
  {
   "source": [
    " All types of 'False' Values:  \n",
    "    False  \n",
    "    None  \n",
    "    Zero of any numeric type  \n",
    "    Any empty sequence. For example, '', (), [].  \n",
    "    Any empty mapping. For example, {}. => any empty dictionary"
   ],
   "cell_type": "markdown",
   "metadata": {}
  },
  {
   "cell_type": "code",
   "execution_count": 33,
   "metadata": {},
   "outputs": [
    {
     "output_type": "stream",
     "name": "stdout",
     "text": [
      "Bye\n"
     ]
    }
   ],
   "source": [
    "b=False\n",
    "if b:\n",
    "    print(\"Hello\")\n",
    "else:\n",
    "    print(\"Bye\")"
   ]
  },
  {
   "cell_type": "code",
   "execution_count": 34,
   "metadata": {},
   "outputs": [
    {
     "output_type": "stream",
     "name": "stdout",
     "text": [
      "Bye\n"
     ]
    }
   ],
   "source": [
    "b=None\n",
    "if b:\n",
    "    print(\"Hello\")\n",
    "else:\n",
    "    print(\"Bye\")"
   ]
  },
  {
   "cell_type": "code",
   "execution_count": 35,
   "metadata": {},
   "outputs": [
    {
     "output_type": "stream",
     "name": "stdout",
     "text": [
      "Bye\n"
     ]
    }
   ],
   "source": [
    "b=0\n",
    "if b:\n",
    "    print(\"Hello\")\n",
    "else:\n",
    "    print(\"Bye\")"
   ]
  },
  {
   "cell_type": "code",
   "execution_count": 36,
   "metadata": {},
   "outputs": [
    {
     "output_type": "stream",
     "name": "stdout",
     "text": [
      "Hello\n"
     ]
    }
   ],
   "source": [
    "b=17\n",
    "if b:\n",
    "    print(\"Hello\")\n",
    "else:\n",
    "    print(\"Bye\")"
   ]
  },
  {
   "cell_type": "code",
   "execution_count": 39,
   "metadata": {},
   "outputs": [
    {
     "output_type": "stream",
     "name": "stdout",
     "text": [
      "Hello\n"
     ]
    }
   ],
   "source": [
    "a=\"\"\n",
    "b=[]\n",
    "c=()\n",
    "# Each of the above three evaluate to False\n",
    "# This observation can be used for checking if a string an empty string \n",
    "# or list is an empty list or tuple is an empty tuple\n",
    "if not a and not b and not c:\n",
    "    print(\"Hello\")\n",
    "else:\n",
    "    print(\"Bye\")"
   ]
  },
  {
   "cell_type": "code",
   "execution_count": 1,
   "metadata": {},
   "outputs": [
    {
     "output_type": "stream",
     "name": "stdout",
     "text": [
      "Hello\n"
     ]
    }
   ],
   "source": [
    "a={}\n",
    "if not a:\n",
    "    print(\"Hello\")\n",
    "else:\n",
    "    print(\"Bye\")"
   ]
  },
  {
   "source": [
    "# Any values other than these above can be considered true\n",
    "# For example:\n",
    "a=\"fsdfb\"\n",
    "if not a: # if not True =False =>else gets executed\n",
    "    print(\"Hello\")\n",
    "else:\n",
    "    print(\"Bye\")"
   ],
   "cell_type": "code",
   "metadata": {},
   "execution_count": 5,
   "outputs": [
    {
     "output_type": "stream",
     "name": "stdout",
     "text": [
      "Bye\n"
     ]
    }
   ]
  },
  {
   "cell_type": "code",
   "execution_count": 3,
   "metadata": {},
   "outputs": [
    {
     "output_type": "stream",
     "name": "stdout",
     "text": [
      "Hi\n"
     ]
    }
   ],
   "source": [
    "# Yeah btw we can also write if loops like below:\n",
    "num=5\n",
    "if(num==5): # I mean we can keep parentheses also\n",
    "    print(\"Hi\")\n",
    "else:\n",
    "    print(\"Bye\")"
   ]
  },
  {
   "source": [
    "***That's all to know about Conditionals and Booleans***"
   ],
   "cell_type": "markdown",
   "metadata": {}
  }
 ]
}