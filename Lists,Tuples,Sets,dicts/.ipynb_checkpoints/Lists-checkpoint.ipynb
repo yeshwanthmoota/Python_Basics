{
 "cells": [
  {
   "cell_type": "markdown",
   "metadata": {},
   "source": [
    "# Python Basics"
   ]
  },
  {
   "cell_type": "markdown",
   "metadata": {},
   "source": [
    "## Working with Lists,Tuples,Sets"
   ]
  },
  {
   "cell_type": "markdown",
   "metadata": {},
   "source": [
    "### Introduction:  \n",
    "Lists and Tuples allow us to work with sequential data  \n",
    "and sets are unordered collection of data"
   ]
  },
  {
   "cell_type": "markdown",
   "metadata": {},
   "source": [
    "### Lists:"
   ]
  },
  {
   "cell_type": "code",
   "execution_count": 1,
   "metadata": {},
   "outputs": [
    {
     "name": "stdout",
     "output_type": "stream",
     "text": [
      "['Krishna', 'Radhika', 'Yeshwanth', 'Siri']\n"
     ]
    }
   ],
   "source": [
    "names=[\"Krishna\",\"Radhika\",\"Yeshwanth\",\"Siri\"]\n",
    "print(names)"
   ]
  },
  {
   "cell_type": "code",
   "execution_count": 2,
   "metadata": {},
   "outputs": [
    {
     "name": "stdout",
     "output_type": "stream",
     "text": [
      "We are a family of 4\n"
     ]
    }
   ],
   "source": [
    "print(\"We are a family of\",len(names))"
   ]
  },
  {
   "cell_type": "code",
   "execution_count": 3,
   "metadata": {},
   "outputs": [
    {
     "name": "stdout",
     "output_type": "stream",
     "text": [
      "Krishna & Radhika  are my dear parents\n"
     ]
    }
   ],
   "source": [
    "print(names[0],end=\" & \")\n",
    "# By passing in the parameter end=\"\" at the end of print function,\n",
    "# we can write the next print statement in the same line as before\n",
    "# Where usually python splits each print function into different lines\n",
    "print(names[1],\" are my dear parents\")"
   ]
  },
  {
   "cell_type": "markdown",
   "metadata": {},
   "source": [
    "***Negative indexes:***"
   ]
  },
  {
   "cell_type": "code",
   "execution_count": 4,
   "metadata": {},
   "outputs": [
    {
     "name": "stdout",
     "output_type": "stream",
     "text": [
      "Siri\n"
     ]
    }
   ],
   "source": [
    "# It's always very convenient to use -1 to access the last element of a list.\n",
    "print(names[-1])"
   ]
  },
  {
   "cell_type": "code",
   "execution_count": 5,
   "metadata": {},
   "outputs": [
    {
     "name": "stdout",
     "output_type": "stream",
     "text": [
      "['Krishna', 'Radhika']\n"
     ]
    }
   ],
   "source": [
    "print(names[0:2])\n",
    "# => names[0] and names[1]"
   ]
  },
  {
   "cell_type": "code",
   "execution_count": 6,
   "metadata": {},
   "outputs": [
    {
     "name": "stdout",
     "output_type": "stream",
     "text": [
      "['Yeshwanth', 'Siri']\n"
     ]
    }
   ],
   "source": [
    "print(names[2:])"
   ]
  },
  {
   "cell_type": "markdown",
   "metadata": {},
   "source": [
    "***Some list methods:***"
   ]
  },
  {
   "cell_type": "code",
   "execution_count": 7,
   "metadata": {},
   "outputs": [
    {
     "name": "stdout",
     "output_type": "stream",
     "text": [
      "['Math', 'Physics', 'Chemistry']\n"
     ]
    }
   ],
   "source": [
    "subjects=[\"Math\",\"Physics\",\"Chemistry\"]\n",
    "print(subjects)"
   ]
  },
  {
   "cell_type": "code",
   "execution_count": 8,
   "metadata": {},
   "outputs": [
    {
     "name": "stdout",
     "output_type": "stream",
     "text": [
      "['Math', 'Physics', 'Chemistry', 'Comp Sci']\n"
     ]
    }
   ],
   "source": [
    "# append method adds elements at the end of the list.\n",
    "subjects.append(\"Comp Sci\")\n",
    "print(subjects)"
   ]
  },
  {
   "cell_type": "code",
   "execution_count": 9,
   "metadata": {},
   "outputs": [
    {
     "name": "stdout",
     "output_type": "stream",
     "text": [
      "['Math', 'Physics', 'Chemistry', 'Comp Sci', ['Art', 'Education']]\n"
     ]
    }
   ],
   "source": [
    "subjects_2=[\"Art\",\"Education\"]\n",
    "subjects.append(subjects_2) # Yeah we can even append lists to lists.\n",
    "print(subjects)"
   ]
  },
  {
   "cell_type": "code",
   "execution_count": 10,
   "metadata": {},
   "outputs": [
    {
     "name": "stdout",
     "output_type": "stream",
     "text": [
      "['Math', 'Physics', 'Chemistry', ['Biology', 'History', 'Geography'], 'Comp Sci', ['Art', 'Education']]\n"
     ]
    }
   ],
   "source": [
    "# With the Help of insert() function we can add the elements,\n",
    "# at a specific position in the list.\n",
    "subjects_3=[\"Biology\",\"History\",\"Geography\"]\n",
    "subjects.insert(3,subjects_3)\n",
    "print(subjects)"
   ]
  },
  {
   "cell_type": "markdown",
   "metadata": {},
   "source": [
    "In the above cell we are adding lists to lists but not,  \n",
    "elements of a list to another list to do this we have to use the extend method  \n",
    "In the above cell if we do\n",
    "\n",
    ">print(subjects\\[7\\])\n",
    " \n",
    "we expect it to print 'Education' But,  \n",
    "It will throw a error saying  \n",
    "\\['Biology', 'History', 'Geography'\\] is subjects\\[3\\] and  \n",
    "'Comp Sci' is subjects\\[4\\]  \n",
    "\\['Art', 'Education'\\] is subjects\\[5\\]  \n",
    "and there is no subjects\\[7\\]"
   ]
  },
  {
   "cell_type": "code",
   "execution_count": 11,
   "metadata": {},
   "outputs": [
    {
     "name": "stdout",
     "output_type": "stream",
     "text": [
      "['Math', 'Physics', 'Chemistry', 'Art', 'Education', 'Biology', 'History', 'Geography']\n",
      "\n",
      " subjects[7] = Geography\n"
     ]
    }
   ],
   "source": [
    "# We can use .extend() method to add the elements of a list to another list\n",
    "subjects=[\"Math\",\"Physics\",\"Chemistry\"]\n",
    "subjects_2=[\"Art\",\"Education\"]\n",
    "subjects_3=[\"Biology\",\"History\",\"Geography\"]\n",
    "subjects.extend(subjects_2)\n",
    "subjects.extend(subjects_3)\n",
    "print(subjects)\n",
    "# Now we can do print(subjects[7])\n",
    "print(\"\\n\",\"subjects[7] =\",subjects[7]) \n",
    "# Yeah we can use escape sequences in python too just as in C,C++,Java."
   ]
  },
  {
   "cell_type": "code",
   "execution_count": 12,
   "metadata": {},
   "outputs": [
    {
     "name": "stdout",
     "output_type": "stream",
     "text": [
      "['Physics', 'Chemistry']\n"
     ]
    }
   ],
   "source": [
    "# This is a remove method- we can remove the element from the list if it is present in the list.\n",
    "subjects=[\"Math\",\"Physics\",\"Chemistry\"]\n",
    "subjects.remove(\"Math\")\n",
    "print(subjects)"
   ]
  },
  {
   "cell_type": "code",
   "execution_count": 13,
   "metadata": {},
   "outputs": [
    {
     "name": "stdout",
     "output_type": "stream",
     "text": [
      "['Math', 'Physics']\n",
      "\n",
      " Chemistry\n"
     ]
    }
   ],
   "source": [
    "# This is a pop method- removes the last element from the list.\n",
    "# pop also returns the 'popped' value.\n",
    "subjects=[\"Math\",\"Physics\",\"Chemistry\"]\n",
    "x=subjects.pop()\n",
    "print(subjects)\n",
    "print(\"\\n\",x)\n",
    "# pop method can be used in stacks and queues"
   ]
  },
  {
   "cell_type": "code",
   "execution_count": 14,
   "metadata": {},
   "outputs": [
    {
     "name": "stdout",
     "output_type": "stream",
     "text": [
      "['Chemistry', 'Physics', 'Math']\n"
     ]
    }
   ],
   "source": [
    "# reverse method\n",
    "subjects=[\"Math\",\"Physics\",\"Chemistry\"]\n",
    "subjects.reverse()\n",
    "print(subjects)"
   ]
  },
  {
   "cell_type": "code",
   "execution_count": 15,
   "metadata": {},
   "outputs": [
    {
     "name": "stdout",
     "output_type": "stream",
     "text": [
      "['Chemistry', 'Math', 'Physics']\n",
      "Before sorting: [1, 4, 2, 6, 3, 2]\n",
      "After sorting: [1, 2, 2, 3, 4, 6]\n"
     ]
    }
   ],
   "source": [
    "# sort method\n",
    "subjects=[\"Math\",\"Physics\",\"Chemistry\"]\n",
    "subjects.sort()\n",
    "print(subjects)\n",
    "nums=[1,4,2,6,3,2]\n",
    "print(\"Before sorting:\",nums)\n",
    "nums.sort()\n",
    "print(\"After sorting:\",nums)"
   ]
  },
  {
   "cell_type": "code",
   "execution_count": 16,
   "metadata": {},
   "outputs": [
    {
     "name": "stdout",
     "output_type": "stream",
     "text": [
      "['Physics', 'Math', 'Chemistry']\n",
      "Before sorting: [1, 4, 2, 6, 3, 2]\n",
      "After sorting: [6, 4, 3, 2, 2, 1]\n"
     ]
    }
   ],
   "source": [
    "# reverse sorting general method\n",
    "subjects=[\"Math\",\"Physics\",\"Chemistry\"]\n",
    "subjects.sort()\n",
    "subjects.reverse()\n",
    "print(subjects)\n",
    "nums=[1,4,2,6,3,2]\n",
    "print(\"Before sorting:\",nums)\n",
    "nums.sort()\n",
    "nums.reverse()\n",
    "print(\"After sorting:\",nums)"
   ]
  },
  {
   "cell_type": "code",
   "execution_count": 17,
   "metadata": {},
   "outputs": [
    {
     "name": "stdout",
     "output_type": "stream",
     "text": [
      "['Physics', 'Math', 'Chemistry']\n",
      "Before sorting: [1, 4, 2, 6, 3, 2]\n",
      "After sorting: [6, 4, 3, 2, 2, 1]\n"
     ]
    }
   ],
   "source": [
    "# reverse sorting, a more sophisticated way\n",
    "subjects=[\"Math\",\"Physics\",\"Chemistry\"]\n",
    "subjects.sort(reverse=True) # to sort in descending order\n",
    "print(subjects)\n",
    "nums=[1,4,2,6,3,2]\n",
    "print(\"Before sorting:\",nums)\n",
    "nums.sort(reverse=True) # to sort in descending order\n",
    "print(\"After sorting:\",nums)"
   ]
  },
  {
   "cell_type": "markdown",
   "metadata": {},
   "source": [
    "Using .sort() function we are tampering with the original variable  \n",
    "what if we don't wanna do that, but we just want to print the value of the sorted list  \n",
    "then we use the 'sorted()' method"
   ]
  },
  {
   "cell_type": "code",
   "execution_count": 18,
   "metadata": {},
   "outputs": [
    {
     "name": "stdout",
     "output_type": "stream",
     "text": [
      "['Chemistry', 'Math', 'Physics']\n",
      "Before sorting: [1, 4, 2, 6, 3, 2]\n",
      "After sorting: [1, 2, 2, 3, 4, 6]\n"
     ]
    }
   ],
   "source": [
    "subjects=[\"Math\",\"Physics\",\"Chemistry\"]\n",
    "print(sorted(subjects))\n",
    "nums=[1,4,2,6,3,2]\n",
    "print(\"Before sorting:\",nums)\n",
    "sorted_nums=sorted(nums) # Very useful can come in handy.\n",
    "print(\"After sorting:\",sorted_nums)"
   ]
  },
  {
   "cell_type": "code",
   "execution_count": 19,
   "metadata": {},
   "outputs": [
    {
     "name": "stdout",
     "output_type": "stream",
     "text": [
      "1\n",
      "6\n",
      "18\n"
     ]
    }
   ],
   "source": [
    "# Self explanatory min(),max(),sum()\n",
    "nums=[1,4,2,6,3,2]\n",
    "print(min(nums))\n",
    "print(max(nums))\n",
    "print(sum(nums))"
   ]
  },
  {
   "cell_type": "code",
   "execution_count": 20,
   "metadata": {},
   "outputs": [
    {
     "name": "stdout",
     "output_type": "stream",
     "text": [
      "6\n"
     ]
    }
   ],
   "source": [
    "# The '.index()' method prints out the index of the number entered into the parameters\n",
    "# it is kind of like a find function\n",
    "subjects=['Math', 'Physics', 'Chemistry', 'Art', 'Education', 'Biology', 'History', 'Geography']\n",
    "print(subjects.index(\"History\"))"
   ]
  },
  {
   "cell_type": "code",
   "execution_count": 21,
   "metadata": {},
   "outputs": [
    {
     "name": "stdout",
     "output_type": "stream",
     "text": [
      "True\n",
      "False\n"
     ]
    }
   ],
   "source": [
    "# We can use 'in' operator to get a True or False value it can be used to check \n",
    "# if the list contain a specific value or not\n",
    "print(\"History\" in subjects)\n",
    "print(\"English\" in subjects)\n",
    "# 'in' is used in if-else statements and also used in loops"
   ]
  },
  {
   "cell_type": "code",
   "execution_count": 22,
   "metadata": {},
   "outputs": [
    {
     "name": "stdout",
     "output_type": "stream",
     "text": [
      "['Math', 'Physics', 'Chemistry', 'Art', 'Education', 'Biology', 'History', 'Geography']\n",
      "Math, Physics, Chemistry, Art, Education, Biology, History, Geography\n",
      "Math - Physics - Chemistry - Art - Education - Biology - History - Geography\n"
     ]
    }
   ],
   "source": [
    "# If we want to turn our lists into strings seperated by a certain value then\n",
    "# We use .join() method\n",
    "subjects=['Math', 'Physics', 'Chemistry', 'Art', 'Education', 'Biology', 'History', 'Geography']\n",
    "subjects_str1=\", \".join(subjects)\n",
    "subjects_str2=\" - \".join(subjects)\n",
    "print(subjects)\n",
    "print(subjects_str1)\n",
    "print(subjects_str2)"
   ]
  },
  {
   "cell_type": "code",
   "execution_count": 23,
   "metadata": {},
   "outputs": [
    {
     "name": "stdout",
     "output_type": "stream",
     "text": [
      "Math, Physics, Chemistry, Art, Education, Biology, History, Geography\n",
      "Math - Physics - Chemistry - Art - Education - Biology - History - Geography\n",
      "['Math', 'Physics', 'Chemistry', 'Art', 'Education', 'Biology', 'History', 'Geography']\n",
      "['Math', 'Physics', 'Chemistry', 'Art', 'Education', 'Biology', 'History', 'Geography']\n",
      "\n",
      " True\n"
     ]
    }
   ],
   "source": [
    "# if we want to split a string into a list then we use .split() method\n",
    "subjects=['Math', 'Physics', 'Chemistry', 'Art', 'Education', 'Biology', 'History', 'Geography']\n",
    "subjects_str1=\", \".join(subjects)\n",
    "subjects_str2=\" - \".join(subjects)\n",
    "print(subjects_str1)\n",
    "print(subjects_str2)\n",
    "new_list1=subjects_str1.split(\", \")\n",
    "new_list2=subjects_str2.split(\" - \")\n",
    "print(new_list1)\n",
    "print(new_list2)\n",
    "print(\"\\n\",new_list1 == new_list2)"
   ]
  }
 ],
 "metadata": {
  "kernelspec": {
   "display_name": "Python 3",
   "language": "python",
   "name": "python3"
  },
  "language_info": {
   "codemirror_mode": {
    "name": "ipython",
    "version": 3
   },
   "file_extension": ".py",
   "mimetype": "text/x-python",
   "name": "python",
   "nbconvert_exporter": "python",
   "pygments_lexer": "ipython3",
   "version": "3.7.4"
  },
  "metadata": {
   "interpreter": {
    "hash": "2192c3c09e545d836aa2fc2fa60954c6c0ce974528ecc4af4f8833e1556a1524"
   }
  }
 },
 "nbformat": 4,
 "nbformat_minor": 2
}
