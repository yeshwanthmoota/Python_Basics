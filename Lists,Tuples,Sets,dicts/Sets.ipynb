{
 "metadata": {
  "language_info": {
   "codemirror_mode": {
    "name": "ipython",
    "version": 3
   },
   "file_extension": ".py",
   "mimetype": "text/x-python",
   "name": "python",
   "nbconvert_exporter": "python",
   "pygments_lexer": "ipython3",
   "version": "3.9.2"
  },
  "orig_nbformat": 2,
  "kernelspec": {
   "name": "python392jvsc74a57bd02192c3c09e545d836aa2fc2fa60954c6c0ce974528ecc4af4f8833e1556a1524",
   "display_name": "Python 3.9.2 64-bit"
  },
  "metadata": {
   "interpreter": {
    "hash": "2192c3c09e545d836aa2fc2fa60954c6c0ce974528ecc4af4f8833e1556a1524"
   }
  }
 },
 "nbformat": 4,
 "nbformat_minor": 2,
 "cells": [
  {
   "source": [
    "# Python Basics"
   ],
   "cell_type": "markdown",
   "metadata": {}
  },
  {
   "source": [
    "## Working with Lists,Tuples,Sets"
   ],
   "cell_type": "markdown",
   "metadata": {}
  },
  {
   "source": [
    "### Introduction:  \n",
    "Lists and Tuples allow us to work with sequential data  \n",
    "and sets are unordered collection of data"
   ],
   "cell_type": "markdown",
   "metadata": {}
  },
  {
   "source": [
    "NOTE: Read this jupyter notebook after reading the Lists.ipynb & Tuples.ipynb notebook."
   ],
   "cell_type": "markdown",
   "metadata": {}
  },
  {
   "source": [
    "### Sets:"
   ],
   "cell_type": "markdown",
   "metadata": {}
  },
  {
   "source": [
    "Sets are just an unordered collection of data  \n",
    "Sets also remove duplicates infact they are used to remove duplicates  \n",
    "Sets are used for member-ship tests i.e.   \n",
    "to check whether a value belongs to a set or not  \n",
    "Sets do this a lot more efficiently than lists or tuples."
   ],
   "cell_type": "markdown",
   "metadata": {}
  },
  {
   "cell_type": "code",
   "execution_count": 6,
   "metadata": {},
   "outputs": [
    {
     "output_type": "stream",
     "name": "stdout",
     "text": [
      "{'Chemistry', 'Math', 'Physics'}\n\n True\n"
     ]
    }
   ],
   "source": [
    "set_1={'Math', 'Physics', 'Chemistry','Math'}\n",
    "print(set_1)\n",
    "print(\"\\n\",\"Math\" in set_1)"
   ]
  },
  {
   "source": [
    "***Some methods we use on Sets:***"
   ],
   "cell_type": "markdown",
   "metadata": {}
  },
  {
   "cell_type": "code",
   "execution_count": 7,
   "metadata": {},
   "outputs": [
    {
     "output_type": "stream",
     "name": "stdout",
     "text": [
      "{'Math', 'Art'}\n"
     ]
    }
   ],
   "source": [
    "# .intersection() shows the intersection b/w 2 sets\n",
    "set_1={'Math', 'Physics', 'Chemistry',\"Art\"}\n",
    "set_2={\"Biology\",\"History\",\"Art\",\"Geography\",'Math'} \n",
    "set_3=set_1.intersection(set_2)\n",
    "print(set_3)"
   ]
  },
  {
   "cell_type": "code",
   "execution_count": 8,
   "metadata": {},
   "outputs": [
    {
     "output_type": "stream",
     "name": "stdout",
     "text": [
      "{'Chemistry', 'Physics'}\n"
     ]
    }
   ],
   "source": [
    "#.difference() shows (set A) - (set B) like in Mathematics \n",
    "set_1={'Math', 'Physics', 'Chemistry',\"Art\"}\n",
    "set_2={\"Biology\",\"History\",\"Art\",\"Geography\",'Math'} \n",
    "set_3=set_1.difference(set_2)\n",
    "print(set_3)"
   ]
  },
  {
   "cell_type": "code",
   "execution_count": 9,
   "metadata": {},
   "outputs": [
    {
     "output_type": "stream",
     "name": "stdout",
     "text": [
      "{'Physics', 'Geography', 'History', 'Biology', 'Chemistry', 'Math', 'Art'}\n"
     ]
    }
   ],
   "source": [
    "#.union() shows the union b/w 2 sets A and B\n",
    "set_1={'Math', 'Physics', 'Chemistry',\"Art\"}\n",
    "set_2={\"Biology\",\"History\",\"Art\",\"Geography\",'Math'} \n",
    "set_3=set_1.union(set_2)\n",
    "print(set_3)"
   ]
  },
  {
   "source": [
    "***Creating Empty lists, tuples, sets:***"
   ],
   "cell_type": "markdown",
   "metadata": {}
  },
  {
   "cell_type": "code",
   "execution_count": 10,
   "metadata": {},
   "outputs": [],
   "source": [
    "# Empty lists:\n",
    "empty_list=[] #correct\n",
    "# Or \n",
    "empty_list=list() #correct\n",
    "# list() is a list class\n",
    "\n",
    "#Empty Tuples:\n",
    "empty_tuple=() #correct\n",
    "# Or\n",
    "empty_tuple=tuple() #correct\n",
    "# tuple() is a tuple class\n",
    "\n",
    "#Empty Sets:\n",
    "# empty_set={} # This isn't right!. it is a dict(We'll see about that later.)\n",
    "# Or\n",
    "empty_set=set() #correct\n",
    "# set() is a set class\n"
   ]
  }
 ]
}