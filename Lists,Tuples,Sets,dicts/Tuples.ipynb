{
 "metadata": {
  "language_info": {
   "codemirror_mode": {
    "name": "ipython",
    "version": 3
   },
   "file_extension": ".py",
   "mimetype": "text/x-python",
   "name": "python",
   "nbconvert_exporter": "python",
   "pygments_lexer": "ipython3",
   "version": "3.9.2"
  },
  "orig_nbformat": 2,
  "kernelspec": {
   "name": "python392jvsc74a57bd02192c3c09e545d836aa2fc2fa60954c6c0ce974528ecc4af4f8833e1556a1524",
   "display_name": "Python 3.9.2 64-bit"
  },
  "metadata": {
   "interpreter": {
    "hash": "2192c3c09e545d836aa2fc2fa60954c6c0ce974528ecc4af4f8833e1556a1524"
   }
  }
 },
 "nbformat": 4,
 "nbformat_minor": 2,
 "cells": [
  {
   "source": [
    "# Python Basics"
   ],
   "cell_type": "markdown",
   "metadata": {}
  },
  {
   "source": [
    "## Working with Lists,Tuples,Sets"
   ],
   "cell_type": "markdown",
   "metadata": {}
  },
  {
   "source": [
    "### Introduction:  \n",
    "Lists and Tuples allow us to work with sequential data  \n",
    "and sets are unordered collection of data"
   ],
   "cell_type": "markdown",
   "metadata": {}
  },
  {
   "source": [
    "NOTE: Read this jupyter notebook after reading the Lists.ipynb notebook."
   ],
   "cell_type": "markdown",
   "metadata": {}
  },
  {
   "source": [
    "### Tuples:"
   ],
   "cell_type": "markdown",
   "metadata": {}
  },
  {
   "source": [
    "***Mutable and Immutable objects:***"
   ],
   "cell_type": "markdown",
   "metadata": {}
  },
  {
   "cell_type": "code",
   "execution_count": 3,
   "metadata": {},
   "outputs": [
    {
     "output_type": "stream",
     "name": "stdout",
     "text": [
      "['Math', 'Physics', 'Chemistry', 'Biology']\n['Math', 'Physics', 'Chemistry', 'Biology']\n"
     ]
    }
   ],
   "source": [
    "#Lists are Mutable objects observe the following:\r\n",
    "list_1=['Math', 'Physics', 'Chemistry']\r\n",
    "list_2=list_1\r\n",
    "# list_2=['Art', 'Education', 'Biology', 'History', 'Geography']\r\n",
    "list_1.append('Biology') # 'Biology' gets added at the end of list_1 \r\n",
    "print(list_1)\r\n",
    "print(list_2) # But 'Biology' gets added at the end of list_2 too."
   ]
  },
  {
   "source": [
    "Since lists are mutable objects,  \n",
    "Here list_1 and list_2 are the same mutable object  \n",
    "so any changes made to list_1 applies to list_2 too and vice versa."
   ],
   "cell_type": "markdown",
   "metadata": {}
  },
  {
   "cell_type": "code",
   "execution_count": 4,
   "metadata": {},
   "outputs": [
    {
     "output_type": "stream",
     "name": "stdout",
     "text": [
      "('Math', 'Physics', 'Chemistry')\n('Math', 'Physics', 'Chemistry')\n"
     ]
    }
   ],
   "source": [
    "tuple_1=('Math', 'Physics', 'Chemistry')\n",
    "tuple_2=tuple_1\n",
    "print(tuple_1)\n",
    "print(tuple_2)"
   ]
  },
  {
   "source": [
    "But we cannot do tuple_1\\[0]=\"Biology\" because    \n",
    "Tuples do not support item assignment   \n",
    "since they are immutable i.e. unchangeable  \n",
    "\n",
    "Since Tuples are immutable they have less methods than lists do    \n",
    "because many of the list methods involved mutating the list which    \n",
    "here in the case of tuples is not possible    \n",
    "But other than that lists and tuples behave almost the same."
   ],
   "cell_type": "markdown",
   "metadata": {}
  },
  {
   "source": [
    "What to use When:  \n",
    "- If u need something that u can modify then use lists.  \n",
    "- But if u need something u can loop around the elements and access the elements then use tuples\n"
   ],
   "cell_type": "markdown",
   "metadata": {}
  }
 ]
}