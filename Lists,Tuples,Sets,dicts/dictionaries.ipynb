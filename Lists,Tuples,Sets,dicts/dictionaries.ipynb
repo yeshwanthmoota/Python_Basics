{
 "metadata": {
  "language_info": {
   "codemirror_mode": {
    "name": "ipython",
    "version": 3
   },
   "file_extension": ".py",
   "mimetype": "text/x-python",
   "name": "python",
   "nbconvert_exporter": "python",
   "pygments_lexer": "ipython3",
   "version": "3.9.2"
  },
  "orig_nbformat": 2,
  "kernelspec": {
   "name": "python392jvsc74a57bd02192c3c09e545d836aa2fc2fa60954c6c0ce974528ecc4af4f8833e1556a1524",
   "display_name": "Python 3.9.2 64-bit"
  },
  "metadata": {
   "interpreter": {
    "hash": "2192c3c09e545d836aa2fc2fa60954c6c0ce974528ecc4af4f8833e1556a1524"
   }
  }
 },
 "nbformat": 4,
 "nbformat_minor": 2,
 "cells": [
  {
   "source": [
    "# Python Basics"
   ],
   "cell_type": "markdown",
   "metadata": {}
  },
  {
   "source": [
    "## Working with Dictionaries i.e. Key-Value pairs"
   ],
   "cell_type": "markdown",
   "metadata": {}
  },
  {
   "source": [
    "### Introduction:  \n"
   ],
   "cell_type": "markdown",
   "metadata": {}
  },
  {
   "source": [
    "**Dictionaries** also called as **'mappings'** allow us to work with key-value pairs    \n",
    "In other languages these are also called 'Hash maps' or 'associative arrays'.  \n",
    "key-values are 2 linked values where,    \n",
    "**Key** -- is a unique identifier where we can find the data.  \n",
    "**Value**-- it is that data.  "
   ],
   "cell_type": "markdown",
   "metadata": {}
  },
  {
   "cell_type": "code",
   "execution_count": 1,
   "metadata": {},
   "outputs": [
    {
     "output_type": "stream",
     "name": "stdout",
     "text": [
      "Yeshwanth\n['math', 'science', 'history']\n{'name': 'Yeshwanth', 'age': 19, 'subjects': ['math', 'science', 'history']}\n"
     ]
    }
   ],
   "source": [
    "student = {}\n",
    "#This defines an empty dictionary\n",
    "student={\"name\":\"Yeshwanth\",\"age\":19,\"subjects\":[\"math\",\"science\",\"history\"]}\n",
    "# Here it is in this format -> key-value : value \n",
    "print(student[\"name\"]) # We print the value of a key like\n",
    "print(student[\"subjects\"])\n",
    "print(student) # We print the whole dictionary like this"
   ]
  },
  {
   "source": [
    "But if we try to access a key that is not present in the dictionary it throws a-    \n",
    "key-error ex. student\\[\"phone\"] throws an error because \"phone\" key is not present in  \n",
    "the student dictionary.  \n",
    "To bounce of this error, to just display None when not found, or display something-else  when not found then we can use the ***.get()*** method"
   ],
   "cell_type": "markdown",
   "metadata": {}
  },
  {
   "cell_type": "code",
   "execution_count": 2,
   "metadata": {},
   "outputs": [
    {
     "output_type": "stream",
     "name": "stdout",
     "text": [
      "Yeshwanth\nNone\nYeshwanth\nNot found dude!\n"
     ]
    }
   ],
   "source": [
    "print(student.get(\"name\"))\n",
    "print(student.get(\"phone\"))\n",
    "print(student.get(\"name\",\"Not found dude!\"))\n",
    "print(student.get(\"phone\",\"Not found dude!\"))"
   ]
  },
  {
   "source": [
    "Let's see How to add a new key-value pair into the dictionary:"
   ],
   "cell_type": "markdown",
   "metadata": {}
  },
  {
   "cell_type": "code",
   "execution_count": 8,
   "metadata": {},
   "outputs": [
    {
     "output_type": "stream",
     "name": "stdout",
     "text": [
      "{'name': 'Yeshwanth', 'age': 18, 'subjects': ['math', 'science', 'history'], 'phone': '9885973716'}\nBaba Yaga\n{'name': 'Yeshwanth', 'age': 19, 'subjects': ['math', 'science', 'history'], 'phone': '8466959583', 15: 56.554}\n"
     ]
    }
   ],
   "source": [
    "student={\"name\":\"Yeshwanth\",\"age\":18,\"subjects\":[\"math\",\"science\",\"history\"]}\n",
    "student[\"phone\"]=\"9885973716\" # This is how we add new key-value pairs into the dict.\n",
    "print(student)\n",
    "student[\"name\"]=\"Baba Yaga\"\n",
    "print(student[\"name\"])\n",
    "# We can use a function to update multiple keys at once\n",
    "# We use .update() function for that purpose\n",
    "student.update({\"name\":\"Yeshwanth\",\"phone\":\"8466959583\",\"age\":19,15:56.554}) #Yes we can have integer keys also.\n",
    "# We can even add in new key-value pairs using the .update() method\n",
    "print(student) "
   ]
  },
  {
   "source": [
    "Let's see how to delete a key-value pair from the dict:"
   ],
   "cell_type": "markdown",
   "metadata": {}
  },
  {
   "cell_type": "code",
   "execution_count": 4,
   "metadata": {},
   "outputs": [
    {
     "output_type": "stream",
     "name": "stdout",
     "text": [
      "{'name': 'Yeshwanth', 'subjects': ['math', 'science', 'history']}\n{'name': 'Yeshwanth', 'subjects': ['math', 'science', 'history']}\n19\n<class 'int'>\n"
     ]
    }
   ],
   "source": [
    "# we can do this by using the del keyword\n",
    "student={\"name\":\"Yeshwanth\",\"age\":19,\"subjects\":[\"math\",\"science\",\"history\"]}\n",
    "del student[\"age\"]\n",
    "print(student)\n",
    "student[\"age\"]=19\n",
    "# We can also use pop method to pop the element from the dict\n",
    "age=student.pop(\"age\")\n",
    "print(student)\n",
    "print(age)\n",
    "print(type(age))"
   ]
  },
  {
   "source": [
    "*We can see the no. of key-value pairs in a dict using the len() method*"
   ],
   "cell_type": "markdown",
   "metadata": {}
  },
  {
   "cell_type": "code",
   "execution_count": 5,
   "metadata": {},
   "outputs": [
    {
     "output_type": "stream",
     "name": "stdout",
     "text": [
      "3\n"
     ]
    }
   ],
   "source": [
    "student={\"name\":\"Yeshwanth\",\"age\":19,\"subjects\":[\"math\",\"science\",\"history\"]}\n",
    "print(len(student))"
   ]
  },
  {
   "source": [
    "*We can see all the values of all the keys using the keys() method*"
   ],
   "cell_type": "markdown",
   "metadata": {}
  },
  {
   "cell_type": "code",
   "execution_count": 6,
   "metadata": {},
   "outputs": [
    {
     "output_type": "stream",
     "name": "stdout",
     "text": [
      "dict_keys(['name', 'age', 'subjects'])\n"
     ]
    }
   ],
   "source": [
    "print(student.keys())\n"
   ]
  },
  {
   "source": [
    "*We can see all the values associated with all the keys using the values() method*"
   ],
   "cell_type": "markdown",
   "metadata": {}
  },
  {
   "cell_type": "code",
   "execution_count": 7,
   "metadata": {},
   "outputs": [
    {
     "output_type": "stream",
     "name": "stdout",
     "text": [
      "dict_values(['Yeshwanth', 19, ['math', 'science', 'history']])\n"
     ]
    }
   ],
   "source": [
    "print(student.values())"
   ]
  },
  {
   "source": [
    "*We can see all the key-value pairs using the items() method*"
   ],
   "cell_type": "markdown",
   "metadata": {}
  },
  {
   "cell_type": "code",
   "execution_count": 8,
   "metadata": {},
   "outputs": [
    {
     "output_type": "stream",
     "name": "stdout",
     "text": [
      "dict_items([('name', 'Yeshwanth'), ('age', 19), ('subjects', ['math', 'science', 'history'])])\n"
     ]
    }
   ],
   "source": [
    "print(student.items())"
   ]
  },
  {
   "source": [
    "**Looping through dictionaries:**"
   ],
   "cell_type": "markdown",
   "metadata": {}
  },
  {
   "cell_type": "code",
   "execution_count": 9,
   "metadata": {},
   "outputs": [
    {
     "output_type": "stream",
     "name": "stdout",
     "text": [
      "name\nage\nsubjects\n"
     ]
    }
   ],
   "source": [
    "for key in student:\n",
    "    print(key)"
   ]
  },
  {
   "cell_type": "code",
   "execution_count": 10,
   "metadata": {},
   "outputs": [
    {
     "output_type": "stream",
     "name": "stdout",
     "text": [
      "name\nage\nsubjects\n"
     ]
    }
   ],
   "source": [
    "# Or we can do this too & this is much clear to understand\n",
    "for key in student.keys():\n",
    "    print(key)"
   ]
  },
  {
   "cell_type": "code",
   "execution_count": 11,
   "metadata": {},
   "outputs": [
    {
     "output_type": "stream",
     "name": "stdout",
     "text": [
      "Yeshwanth\n19\n['math', 'science', 'history']\n"
     ]
    }
   ],
   "source": [
    "for value in student.values():\n",
    "    print(value)"
   ]
  },
  {
   "cell_type": "code",
   "execution_count": 12,
   "metadata": {},
   "outputs": [
    {
     "output_type": "stream",
     "name": "stdout",
     "text": [
      "name -> Yeshwanth\nage -> 19\nsubjects -> ['math', 'science', 'history']\n"
     ]
    }
   ],
   "source": [
    "# For printing all the key value pairs or using them in some way we can use .items()\n",
    "for key,value in student.items():\n",
    "    print(key,\"->\",value)"
   ]
  }
 ]
}