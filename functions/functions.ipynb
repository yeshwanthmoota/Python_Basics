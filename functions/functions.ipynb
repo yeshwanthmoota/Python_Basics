{
 "metadata": {
  "language_info": {
   "codemirror_mode": {
    "name": "ipython",
    "version": 3
   },
   "file_extension": ".py",
   "mimetype": "text/x-python",
   "name": "python",
   "nbconvert_exporter": "python",
   "pygments_lexer": "ipython3",
   "version": "3.9.2"
  },
  "orig_nbformat": 2,
  "kernelspec": {
   "name": "python392jvsc74a57bd02192c3c09e545d836aa2fc2fa60954c6c0ce974528ecc4af4f8833e1556a1524",
   "display_name": "Python 3.9.2 64-bit"
  },
  "metadata": {
   "interpreter": {
    "hash": "2192c3c09e545d836aa2fc2fa60954c6c0ce974528ecc4af4f8833e1556a1524"
   }
  }
 },
 "nbformat": 4,
 "nbformat_minor": 2,
 "cells": [
  {
   "source": [
    "# Python Basics"
   ],
   "cell_type": "markdown",
   "metadata": {}
  },
  {
   "source": [
    "## Working with functions"
   ],
   "cell_type": "markdown",
   "metadata": {}
  },
  {
   "source": [
    "***How to write a basic function:***"
   ],
   "cell_type": "markdown",
   "metadata": {}
  },
  {
   "cell_type": "code",
   "execution_count": 1,
   "metadata": {},
   "outputs": [
    {
     "output_type": "stream",
     "name": "stdout",
     "text": [
      "Hello world\n"
     ]
    }
   ],
   "source": [
    "# Defining the function:\n",
    "def example_function():\n",
    "    print(\"Hello world\")\n",
    "# Calling the function:\n",
    "example_function()"
   ]
  },
  {
   "source": [
    "***Functions with arguments:***"
   ],
   "cell_type": "markdown",
   "metadata": {}
  },
  {
   "cell_type": "code",
   "execution_count": 2,
   "metadata": {},
   "outputs": [
    {
     "output_type": "stream",
     "name": "stdout",
     "text": [
      "Yeshwanth 25/05/2021 5142\n"
     ]
    }
   ],
   "source": [
    "# just like in C/C++ we can pass the arguments\n",
    "def project_submission(name,date,roll_number):\n",
    "    print(name,date,roll_number)\n",
    "project_submission(\"Yeshwanth\",\"25/05/2021\",5142)"
   ]
  },
  {
   "source": [
    "***How to return something from a function:***"
   ],
   "cell_type": "markdown",
   "metadata": {}
  },
  {
   "cell_type": "code",
   "execution_count": 3,
   "metadata": {},
   "outputs": [
    {
     "output_type": "stream",
     "name": "stdout",
     "text": [
      "1187\n552225\nThe number 42534 consists of 5 number of digits\n"
     ]
    }
   ],
   "source": [
    "def mul(num1,num2):\n",
    "    return num1*num2\n",
    "def add(num1,num2):\n",
    "    return num1+num2\n",
    "def no_of_digits(num):\n",
    "    temp=num\n",
    "    count=0\n",
    "    while temp!=0:\n",
    "        count+=1\n",
    "        temp=temp//10\n",
    "    print(\"The number\",num,\"consists of\",count,\"number of digits\")\n",
    "print(add(953,234))\n",
    "print(mul(597,925))\n",
    "no_of_digits(42534)"
   ]
  },
  {
   "source": [
    "***How to write an empty function:***"
   ],
   "cell_type": "markdown",
   "metadata": {}
  },
  {
   "cell_type": "code",
   "execution_count": 4,
   "metadata": {},
   "outputs": [
    {
     "output_type": "stream",
     "name": "stdout",
     "text": [
      "None\n"
     ]
    }
   ],
   "source": [
    "# sometimes we write a function name and we want to\n",
    "# comeback later to write the code within it\n",
    "# Then we use the 'pass' keyword\n",
    "def function(name):\n",
    "    pass\n",
    "x=function(\"yesh\")# this function also returns nothing\n",
    "print(x)\n",
    "function(\"yesh\") # this function does nothing and returns nothing"
   ]
  },
  {
   "source": [
    "***How to default some parameters to some values if not entered:***"
   ],
   "cell_type": "markdown",
   "metadata": {}
  },
  {
   "cell_type": "code",
   "execution_count": 5,
   "metadata": {},
   "outputs": [
    {
     "output_type": "stream",
     "name": "stdout",
     "text": [
      "Hello, Yeshwanth\nHello, you\n"
     ]
    }
   ],
   "source": [
    "def func(greeting, name=\"you\"):# Here 'you' is the default 'name' if only one parameter is entered.\n",
    "    print(\"{}, {}\".format(greeting, name))\n",
    "func(\"Hello\",\"Yeshwanth\")\n",
    "func(\"Hello\")# here the default name is you since only one of the parameters are entered."
   ]
  },
  {
   "source": [
    "### --------------\\*args and \\**kwargs:--------------"
   ],
   "cell_type": "markdown",
   "metadata": {}
  },
  {
   "source": [
    "args stand for positional arguments and kwargs stand for keyword arguments  \n",
    "to understand args and kwargs we need to understand what are positional and keyword arguments  "
   ],
   "cell_type": "markdown",
   "metadata": {}
  },
  {
   "source": [
    "In Python, the terms parameter and argument are used interchangeably. However, there is a slight distinction between these two terms. **Parameters** are the input variables bounded by parentheses when defining a function, whereas **arguments** are the values assigned to these parameters when passed into a function (or method) during a function call."
   ],
   "cell_type": "markdown",
   "metadata": {}
  },
  {
   "cell_type": "code",
   "execution_count": 6,
   "metadata": {},
   "outputs": [
    {
     "output_type": "stream",
     "name": "stdout",
     "text": [
      "Yeshwanth is working on a project named Big-Bang\n"
     ]
    }
   ],
   "source": [
    "def team(name, project):# name and project are parameters\n",
    "    print(name, \"is working on a project named\", project)\n",
    "    \n",
    "team(\"Yeshwanth\", \"Big-Bang\") # these are arguments"
   ]
  },
  {
   "source": [
    "**Types of Arguments:**\n",
    "There are two types of arguments: positional arguments and keyword arguments.\n",
    "\n",
    "**Positional arguments:**\n",
    "Positional arguments are values that are passed into a function based on the order in which the parameters were listed during the function definition. Here, the order is especially important as values passed into these functions are assigned to corresponding parameters based on their position."
   ],
   "cell_type": "markdown",
   "metadata": {}
  },
  {
   "cell_type": "code",
   "execution_count": 7,
   "metadata": {},
   "outputs": [
    {
     "output_type": "stream",
     "name": "stdout",
     "text": [
      "Yeshwanth is working on a project named Big-Bang\nBig-Bang is working on a project named Yeshwanth\n"
     ]
    }
   ],
   "source": [
    "def team(name, project):# name and project are parameters\n",
    "    print(name, \"is working on a project named\", project)\n",
    "    \n",
    "team(\"Yeshwanth\", \"Big-Bang\")\n",
    "team(\"Big-Bang\",\"Yeshwanth\")"
   ]
  },
  {
   "source": [
    "In the above example we can see that even though the order of arguments of name and project    \n",
    "are changed the result is based on ,  \n",
    "the positions of passing of the values of 'Yeshwanth' and 'Big-Bang' if passed in reverse order    \n",
    "'Big-Bang' is interpreted as name and 'Yeshwanth' is interpreted as project  \n",
    "these are called as  **positional arguments**."
   ],
   "cell_type": "markdown",
   "metadata": {}
  },
  {
   "source": [
    "**Keyword arguments:**  \n",
    "Keyword arguments (or named arguments) are values that, when passed into a function, are   identifiable by specific parameter names. A keyword argument is preceded by a parameter and the   assignment operator, = ."
   ],
   "cell_type": "markdown",
   "metadata": {}
  },
  {
   "cell_type": "code",
   "execution_count": 8,
   "metadata": {},
   "outputs": [
    {
     "output_type": "stream",
     "name": "stdout",
     "text": [
      "Yeshwanth is working on a project named Big-Bang\n"
     ]
    }
   ],
   "source": [
    "def team(name, project):# name and project are parameters\n",
    "    print(name, \"is working on a project named\", project)\n",
    "\n",
    "team(project = \"Big-Bang\", name = 'Yeshwanth')"
   ]
  },
  {
   "source": [
    "Now positional arguments and keyword arguments are explained  \n",
    "let's move on to \\**args and \\**kwargs."
   ],
   "cell_type": "markdown",
   "metadata": {}
  },
  {
   "source": [
    "Consider the below example:"
   ],
   "cell_type": "markdown",
   "metadata": {}
  },
  {
   "cell_type": "code",
   "execution_count": 9,
   "metadata": {},
   "outputs": [],
   "source": [
    "def team(name, project):\n",
    "    print(number, name,\"are working on an\", project)\n",
    "\n",
    "# team(\"The two members of\", \"FemCode\", \"Edpresso\") \n",
    "\n",
    "\n",
    "# The above line throws in an error because the no.of arguments do not match on both sides.\n",
    "# Sometimes, we do not know the number of arguments needed in advance; thus,\n",
    "# we need to input more arguments than previously mentioned in the function definition."
   ]
  },
  {
   "source": [
    "Sometimes, we do not know the number of arguments needed in advance; thus,\n",
    "we need to input more arguments than previously mentioned in the function definition.  \n",
    "\n",
    "Python allows us to do this through certain special syntaxes that are collectively known as arbitrary arguments (or variable-length arguments). Here, unlike with fixed arguments, parameters are not specified by distinct individual names, but rather a general term to better encapsulate the shared attribute of the type of arguments being passed into the function. These syntaxes are of the forms:\n",
    "<ul>\n",
    "<li>*args: for non-keyworded/positional arguments</li>\n",
    "<li>**kwargs: for keyworded arguments.</li>\n",
    "</ul>"
   ],
   "cell_type": "markdown",
   "metadata": {}
  },
  {
   "cell_type": "code",
   "execution_count": 10,
   "metadata": {},
   "outputs": [
    {
     "output_type": "stream",
     "name": "stdout",
     "text": [
      "YESHWANTH\nRAJAVARDHAN\nMANAS\nSAKETH\nSANTHOSH\nAKSHAY\n"
     ]
    }
   ],
   "source": [
    "def team(*members): # Here one '*' represents args,we use it for positional arguments\n",
    "    for member in members:\n",
    "        print(member.upper())\n",
    "        \n",
    "team(\"yeshwanth\",\"rajavardhan\",\"manas\",\"saketh\",\"santhosh\",\"akshay\")"
   ]
  },
  {
   "cell_type": "code",
   "execution_count": 11,
   "metadata": {},
   "outputs": [
    {
     "output_type": "stream",
     "name": "stdout",
     "text": [
      "<class 'tuple'>\n('yeshwanth', 'rajavardhan', 'manas', 'saketh', 'santhosh', 'akshay')\n"
     ]
    }
   ],
   "source": [
    "def team(*members): # Here one '*' represents args,we use it for positional arguments\n",
    "    print(type(members))\n",
    "    print(members)\n",
    "        \n",
    "team(\"yeshwanth\",\"rajavardhan\",\"manas\",\"saketh\",\"santhosh\",\"akshay\")"
   ]
  },
  {
   "source": [
    "args are stored in as a tuple.\n",
    "and there is no limit to the number of arguments that can be passed into the function.\n",
    "that is the reason why we use args and kwargs."
   ],
   "cell_type": "markdown",
   "metadata": {}
  },
  {
   "source": [
    "But it is a good practice to leave name of args as args and kwargs as kwargs like the following: "
   ],
   "cell_type": "markdown",
   "metadata": {}
  },
  {
   "cell_type": "code",
   "execution_count": 12,
   "metadata": {},
   "outputs": [
    {
     "output_type": "stream",
     "name": "stdout",
     "text": [
      "<class 'tuple'>\n('yeshwanth', 'rajavardhan', 'manas', 'saketh', 'santhosh', 'akshay')\n\n\nYESHWANTH\nRAJAVARDHAN\nMANAS\nSAKETH\nSANTHOSH\nAKSHAY\n"
     ]
    }
   ],
   "source": [
    "def team(*args): # Here one '*' represents args,we use it for positional arguments\n",
    "    print(type(args))\n",
    "    print(args)\n",
    "        \n",
    "team(\"yeshwanth\",\"rajavardhan\",\"manas\",\"saketh\",\"santhosh\",\"akshay\")\n",
    "\n",
    "print(\"\\n\")\n",
    "\n",
    "def team1(*args):\n",
    "    for member in args:\n",
    "        print(member.upper())\n",
    "        \n",
    "team1(\"yeshwanth\",\"rajavardhan\",\"manas\",\"saketh\",\"santhosh\",\"akshay\")"
   ]
  },
  {
   "source": [
    "Now let's see the use of **\\**kwargs**:"
   ],
   "cell_type": "markdown",
   "metadata": {}
  },
  {
   "cell_type": "code",
   "execution_count": 13,
   "metadata": {},
   "outputs": [
    {
     "output_type": "stream",
     "name": "stdout",
     "text": [
      "<class 'tuple'>\n<class 'dict'>\n"
     ]
    }
   ],
   "source": [
    "def team(*members, **features): # Here '**' represents kwargs\n",
    "    print(type(members))\n",
    "    print(type(features))\n",
    "\n",
    "team(\"yeshwanth\",\"rajavardhan\",Project = \"Comp Sci\", Number = \"Two Members\")"
   ]
  },
  {
   "source": [
    "We can see that the keyword arguments i.e. Project = \"Comp Sci\", Number = \"Two Members\"  \n",
    "are stored in a **dictionary** using **kwargs here features was kwargs."
   ],
   "cell_type": "markdown",
   "metadata": {}
  },
  {
   "cell_type": "code",
   "execution_count": 14,
   "metadata": {},
   "outputs": [
    {
     "output_type": "stream",
     "name": "stdout",
     "text": [
      "yeshwanth\nrajavardhan\n('Project', 'Comp Sci')\n('Number', 'Two Members')\nProject:Comp Sci\nNumber:Two Members\n"
     ]
    }
   ],
   "source": [
    "def team(*members, **features): # Here '**' represents kwargs\n",
    "    for member in members: # each item is a key-value pair\n",
    "        print(member)\n",
    "    for item in features.items(): # each item is a key-value pair\n",
    "        print(item)\n",
    "    for key,value in features.items():\n",
    "        print(\"{}:{}\".format(key,value))\n",
    "team(\"yeshwanth\",\"rajavardhan\",Project = \"Comp Sci\", Number = \"Two Members\")"
   ]
  },
  {
   "source": [
    "Here the parameters in the keyword arguments are passed into the dictionary as keys and  \n",
    "their respective values are the values assigned to each of them."
   ],
   "cell_type": "markdown",
   "metadata": {}
  },
  {
   "cell_type": "code",
   "execution_count": 15,
   "metadata": {},
   "outputs": [
    {
     "output_type": "stream",
     "name": "stdout",
     "text": [
      "({'1': 1, '2': 5, '3': 5}, {'a': 1, 'b': 2, 'c': 3})\n{}\n"
     ]
    }
   ],
   "source": [
    "def student1(*args, **kwargs):\n",
    "    print(args)\n",
    "    print(kwargs)\n",
    "\n",
    "courses={\"1\":1,\"2\":5,\"3\":5}\n",
    "info={\"a\":1,\"b\":2,\"c\":3}\n",
    "\n",
    "student1(courses,info)"
   ]
  },
  {
   "source": [
    "This doesn't work as we expected it to  \n",
    "instead it passes both the values into **\\*args** as two dictionaries in a tuple.  \n",
    "The solution to get the desired result is:  \n",
    "We enter '*' or '**' based on what we want to pass into args and kwargs."
   ],
   "cell_type": "markdown",
   "metadata": {}
  },
  {
   "cell_type": "code",
   "execution_count": 16,
   "metadata": {},
   "outputs": [
    {
     "output_type": "stream",
     "name": "stdout",
     "text": [
      "('1', '2', '3')\n{'a': 1, 'b': 2, 'c': 3}\n"
     ]
    }
   ],
   "source": [
    "def student1(*args, **kwargs):\n",
    "    print(args)\n",
    "    print(kwargs)\n",
    "\n",
    "courses={\"1\":1,\"2\":5,\"3\":5}\n",
    "info={\"a\":1,\"b\":2,\"c\":3}\n",
    "\n",
    "student1(*courses,**info) # We enter '*' or '**' based on what we want to pass into args and kwargs."
   ]
  },
  {
   "source": [
    "### --------------That is everything about args and kwargs--------------"
   ],
   "cell_type": "markdown",
   "metadata": {}
  },
  {
   "source": [
    "### Now an example program using functions:"
   ],
   "cell_type": "markdown",
   "metadata": {}
  },
  {
   "cell_type": "code",
   "execution_count": 17,
   "metadata": {},
   "outputs": [
    {
     "output_type": "stream",
     "name": "stdout",
     "text": [
      "31\n28\n29\n"
     ]
    }
   ],
   "source": [
    "# Number of days per month. First value placeholder for indexing purposes.\n",
    "month_days = [0, 31, 28, 31, 30, 31, 30, 31, 31, 30, 31, 30, 31]\n",
    "\n",
    "\n",
    "def is_leap(year):\n",
    "    \"\"\"Return True for leap years, False for non-leap years.\"\"\"\n",
    "    # The above type of comment is called as a Doc-string.\n",
    "\n",
    "    return year % 4 == 0 and (year % 100 != 0 or year % 400 == 0)\n",
    "\n",
    "\n",
    "def days_in_month(year, month):\n",
    "    \"\"\"Return number of days in that month in that year.\"\"\"\n",
    "\n",
    "    # year 2017\n",
    "    # month 2\n",
    "    if not 1 <= month <= 12:\n",
    "        return 'Invalid Month'\n",
    "\n",
    "    if month == 2 and is_leap(year):\n",
    "        return 29\n",
    "\n",
    "    return month_days[month]\n",
    "\n",
    "print(days_in_month(2020,5))\n",
    "print(days_in_month(2017, 2))\n",
    "print(days_in_month(2020,2))"
   ]
  },
  {
   "source": [
    "## That's all there is to know for the Basics of Functions in Python."
   ],
   "cell_type": "markdown",
   "metadata": {}
  }
 ]
}