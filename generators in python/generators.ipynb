{
 "metadata": {
  "language_info": {
   "codemirror_mode": {
    "name": "ipython",
    "version": 3
   },
   "file_extension": ".py",
   "mimetype": "text/x-python",
   "name": "python",
   "nbconvert_exporter": "python",
   "pygments_lexer": "ipython3",
   "version": "3.9.2"
  },
  "orig_nbformat": 2,
  "kernelspec": {
   "name": "python392jvsc74a57bd02192c3c09e545d836aa2fc2fa60954c6c0ce974528ecc4af4f8833e1556a1524",
   "display_name": "Python 3.9.2 64-bit"
  },
  "metadata": {
   "interpreter": {
    "hash": "2192c3c09e545d836aa2fc2fa60954c6c0ce974528ecc4af4f8833e1556a1524"
   }
  }
 },
 "nbformat": 4,
 "nbformat_minor": 2,
 "cells": [
  {
   "source": [
    "# Python Basics"
   ],
   "cell_type": "markdown",
   "metadata": {}
  },
  {
   "source": [
    "## Generators"
   ],
   "cell_type": "markdown",
   "metadata": {}
  },
  {
   "source": [
    "#### Why use them:"
   ],
   "cell_type": "markdown",
   "metadata": {}
  },
  {
   "source": [
    "Generators are just like lists But a lot different in terms  \n",
    "of performance values in generators are never actually stored in   \n",
    "memory like they do in lists, and accessing them is a lot faster  \n",
    "as compared to lists.  \n",
    "But first let's see the syntax and basics:"
   ],
   "cell_type": "markdown",
   "metadata": {}
  },
  {
   "cell_type": "code",
   "execution_count": 1,
   "metadata": {},
   "outputs": [
    {
     "output_type": "stream",
     "name": "stdout",
     "text": [
      "[1, 4, 9, 16, 25]\n1\n4\n9\n16\n25\n"
     ]
    }
   ],
   "source": [
    "# Using a list to do some task.\n",
    "def square_numbers(nums):\n",
    "    result=[]\n",
    "    for i in nums:\n",
    "        result.append(i*i)\n",
    "    return result\n",
    "\n",
    "my_nums = square_numbers([1,2,3,4,5])\n",
    "print(my_nums) # [1, 4, 9, 16, 25]\n",
    "\n",
    "for num in my_nums: # This is how we print a list 1 by 1 element.\n",
    "    print(num)"
   ]
  },
  {
   "cell_type": "code",
   "execution_count": 2,
   "metadata": {},
   "outputs": [
    {
     "output_type": "stream",
     "name": "stdout",
     "text": [
      "[1, 4, 9, 16, 25]\n1\n4\n9\n16\n25\n"
     ]
    }
   ],
   "source": [
    "# Using a list comprehension to do the same task.\n",
    "\n",
    "my_nums = [i*i for i in [1,2,3,4,5]] #list comprehension.\n",
    "print(my_nums) # [1, 4, 9, 16, 25]\n",
    "\n",
    "for num in my_nums: # This is how we print a list 1 by 1 element.\n",
    "    print(num)"
   ]
  },
  {
   "cell_type": "code",
   "execution_count": 3,
   "metadata": {},
   "outputs": [
    {
     "output_type": "stream",
     "name": "stdout",
     "text": [
      "<generator object square_numbers at 0x000001DE4F84F200>\n1\n4\n9\n16\n25\n"
     ]
    }
   ],
   "source": [
    "# Using generators to do the same task.\n",
    "def square_numbers(nums):\n",
    "    for i in nums:\n",
    "        yield i*i  #key-word for generators.\n",
    "\n",
    "my_nums=square_numbers([1,2,3,4,5])\n",
    "print(my_nums)  # [1, 4, 9, 16, 25]\n",
    "# The above expression doesn't produce the same output as before.\n",
    "for num in my_nums: # This is how we print generators\n",
    "    print(num)"
   ]
  },
  {
   "cell_type": "code",
   "execution_count": 4,
   "metadata": {},
   "outputs": [
    {
     "output_type": "stream",
     "name": "stdout",
     "text": [
      "1\n4\n9\n16\n25\n2054254324016\n2054254324112\n2054254324272\n2054254324496\n2054254324784\n"
     ]
    }
   ],
   "source": [
    "# The next function used in generators\n",
    "def square_numbers(nums):\n",
    "    for i in nums:\n",
    "        yield i*i  #key-word for generators.\n",
    "\n",
    "my_nums=square_numbers([1,2,3,4,5])\n",
    "\n",
    "print(next(my_nums)) \n",
    "print(next(my_nums))  \n",
    "print(next(my_nums))  \n",
    "print(next(my_nums))  \n",
    "print(next(my_nums))  \n",
    "\n",
    "my_nums=square_numbers([1,2,3,4,5])\n",
    "print(id(next(my_nums)))  \n",
    "print(id(next(my_nums)))  \n",
    "print(id(next(my_nums)))  \n",
    "print(id(next(my_nums)))  \n",
    "print(id(next(my_nums)))  \n",
    "# next goes to the next memory location and access the value held there."
   ]
  },
  {
   "cell_type": "code",
   "execution_count": 5,
   "metadata": {},
   "outputs": [
    {
     "output_type": "stream",
     "name": "stdout",
     "text": [
      "<generator object <genexpr> at 0x000001DE4F84F510>\n1\n4\n9\n16\n25\n"
     ]
    }
   ],
   "source": [
    "# Using generator comprehension to do the same task.\n",
    "\n",
    "my_nums = (i*i for i in [1,2,3,4,5]) #generator comprehension.\n",
    "# Point to remember tuples don't have generators.\n",
    "print(my_nums) # [1, 4, 9, 16, 25]\n",
    "\n",
    "for num in my_nums: # This is how we print a list 1 by 1 element.\n",
    "    print(num)"
   ]
  },
  {
   "source": [
    "**What if we want to convert generator into list:**"
   ],
   "cell_type": "markdown",
   "metadata": {}
  },
  {
   "cell_type": "code",
   "execution_count": 6,
   "metadata": {},
   "outputs": [
    {
     "output_type": "stream",
     "name": "stdout",
     "text": [
      "[1, 4, 9, 16, 25]\n1\n4\n9\n16\n25\n"
     ]
    }
   ],
   "source": [
    "def square_numbers(nums):\n",
    "    for i in nums:\n",
    "        yield i*i\n",
    "\n",
    "my_nums=list(square_numbers([1,2,3,4,5]))\n",
    "print(my_nums)  # [1, 4, 9, 16, 25]\n",
    "for num in my_nums: # This is how we print generators\n",
    "    print(num)"
   ]
  },
  {
   "source": [
    "But the above code is useless, the performance boost falls as soon as we  \n",
    "convert the code into a list so we should never try to do that.  \n",
    "or just use lists instead of generators."
   ],
   "cell_type": "markdown",
   "metadata": {}
  },
  {
   "source": [
    "**When Should we use generators instead of lists?**"
   ],
   "cell_type": "markdown",
   "metadata": {}
  },
  {
   "source": [
    "When we use generators we don't store anything in the memory  \n",
    "But When we use lists we store everything in the memory  \n",
    "So we should use lists when we want to store something  \n",
    "and generators when we don't want to store anything.  \n",
    "But for small inputs it doesn't matter."
   ],
   "cell_type": "markdown",
   "metadata": {}
  },
  {
   "source": [
    "We are just stating that generators are efficient  \n",
    "But the program actually proving it is the file generators_vs_lists.py  \n",
    "in the same directory."
   ],
   "cell_type": "markdown",
   "metadata": {}
  },
  {
   "source": [
    "### That's all there is to know about generators."
   ],
   "cell_type": "markdown",
   "metadata": {}
  }
 ]
}