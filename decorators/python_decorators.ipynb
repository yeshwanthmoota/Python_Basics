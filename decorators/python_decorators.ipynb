{
 "cells": [
  {
   "cell_type": "markdown",
   "source": [
    "# Using Decorators in Python"
   ],
   "metadata": {}
  },
  {
   "cell_type": "markdown",
   "source": [
    "The below demonstration uses closure property in python"
   ],
   "metadata": {}
  },
  {
   "cell_type": "code",
   "execution_count": 14,
   "source": [
    "\n",
    "def decorator_func(original_function):\n",
    "    def wrapper_func():\n",
    "        print(\"Inside the decorator function\")\n",
    "        return original_function() # original_function is executed and wrapper function returns it\n",
    "    return wrapper_func # Wrapper_func is not executed yet but it is waiting to be executed\n",
    "\n",
    "def decorator_func_2(original_function):\n",
    "    def wrapper_func():\n",
    "        return original_function # original function os waiting to be executed and it cannot be executed\n",
    "    return wrapper_func # wrapper function is waiting to be executed\n",
    "\n",
    "def display():\n",
    "    print('Hello Yeshwanth')\n",
    "\n",
    "display_1 = decorator_func(display)\n",
    "display_1()\n",
    "\n",
    "display_2 = decorator_func_2(display)\n",
    "display_2()"
   ],
   "outputs": [
    {
     "output_type": "stream",
     "name": "stdout",
     "text": [
      "Inside the decorator function\n",
      "Hello Yeshwanth\n"
     ]
    },
    {
     "output_type": "execute_result",
     "data": {
      "text/plain": [
       "<function __main__.display()>"
      ]
     },
     "metadata": {},
     "execution_count": 14
    }
   ],
   "metadata": {}
  },
  {
   "cell_type": "code",
   "execution_count": 15,
   "source": [
    "@decorator_func\n",
    "def display_3():\n",
    "    pass\n",
    "display_3()"
   ],
   "outputs": [
    {
     "output_type": "stream",
     "name": "stdout",
     "text": [
      "Inside the decorator function\n"
     ]
    }
   ],
   "metadata": {}
  },
  {
   "cell_type": "markdown",
   "source": [
    "### The above code is same as writing the below code:"
   ],
   "metadata": {}
  },
  {
   "cell_type": "code",
   "execution_count": 16,
   "source": [
    "def display_4():\n",
    "    pass\n",
    "display_4 = decorator_func(display_4)\n",
    "display_4()"
   ],
   "outputs": [
    {
     "output_type": "stream",
     "name": "stdout",
     "text": [
      "Inside the decorator function\n"
     ]
    }
   ],
   "metadata": {}
  },
  {
   "cell_type": "code",
   "execution_count": 17,
   "source": [
    "def outer_func():\n",
    "    message = 'hi'\n",
    "\n",
    "    def inner_func():\n",
    "        print(message)\n",
    "    return inner_func\n",
    "\n",
    "\n",
    "my_func = outer_func()\n",
    "print(my_func.__name__)"
   ],
   "outputs": [
    {
     "output_type": "stream",
     "name": "stdout",
     "text": [
      "inner_func\n"
     ]
    }
   ],
   "metadata": {}
  },
  {
   "cell_type": "code",
   "execution_count": 18,
   "source": [
    "def outer_func():\n",
    "    message = 'hi'\n",
    "\n",
    "    def inner_func():\n",
    "        print(message)\n",
    "    return inner_func()\n",
    "\n",
    "\n",
    "my_func = outer_func()\n",
    "print(type(my_func))\n",
    "print(my_func)"
   ],
   "outputs": [
    {
     "output_type": "stream",
     "name": "stdout",
     "text": [
      "hi\n",
      "<class 'NoneType'>\n",
      "None\n"
     ]
    }
   ],
   "metadata": {}
  },
  {
   "cell_type": "code",
   "execution_count": 19,
   "source": [
    "def square(x):\n",
    "    return x*x\n",
    "\n",
    "def cube(x):\n",
    "    return x*x*x\n",
    "\n",
    "\n",
    "def outer_func(func, arr):\n",
    "    def inner_func():\n",
    "        result = []\n",
    "        for i in arr:\n",
    "            result.append(func(i))\n",
    "        return result\n",
    "    return inner_func\n",
    "\n",
    "square_func = outer_func(square, [1, 2, 3, 4, 5])\n",
    "cube_func = outer_func(cube, [1, 2, 3, 4, 5])\n",
    "\n",
    "print(square_func())\n",
    "print(cube_func())"
   ],
   "outputs": [
    {
     "output_type": "stream",
     "name": "stdout",
     "text": [
      "[1, 4, 9, 16, 25]\n",
      "[1, 8, 27, 64, 125]\n"
     ]
    }
   ],
   "metadata": {}
  },
  {
   "cell_type": "code",
   "execution_count": 20,
   "source": [
    "def outer_func(original_function): # outer function here is called a decorator function\n",
    "    def inner_func(arr): # inner function here is called as a wrapper function\n",
    "        result = []\n",
    "        for i in arr:\n",
    "            result.append(original_function(i))\n",
    "        return result\n",
    "    return inner_func\n",
    "\n",
    "def square(x):\n",
    "    return x*x\n",
    "def cube(x):\n",
    "    return x*x*x\n",
    "\n",
    "a_func = outer_func(square) # 'a_func' is 'inner_func' loaded with original_function = square\n",
    "b_func = outer_func(cube) # 'b_func' is 'inner_func' loaded with original_function = cube\n",
    "print(a_func.__name__)\n",
    "print(a_func([1, 2, 3, 4, 5]))\n",
    "print(b_func.__name__)\n",
    "print(b_func([1, 2, 3, 4, 5]))"
   ],
   "outputs": [
    {
     "output_type": "stream",
     "name": "stdout",
     "text": [
      "inner_func\n",
      "[1, 4, 9, 16, 25]\n",
      "inner_func\n",
      "[1, 8, 27, 64, 125]\n"
     ]
    }
   ],
   "metadata": {}
  },
  {
   "cell_type": "code",
   "execution_count": 21,
   "source": [
    "def outer_func(original_function): # outer function here is called a decorator function\n",
    "    def inner_func(list1): # inner function here is called as a wrapper function\n",
    "        result = []\n",
    "        for i in list1:\n",
    "            result.append(original_function(i))\n",
    "        return result\n",
    "    return inner_func\n",
    "\n",
    "@outer_func\n",
    "def square(x): # 'square' is 'inner_func' loaded with original_function square\n",
    "    return x*x\n",
    "\n",
    "@outer_func\n",
    "def cube(x): # 'cube' is 'inner_func' loaded with original_function cube\n",
    "    return x*x*x\n",
    "\n",
    "print(square([1, 2, 3, 4, 5]))\n",
    "print(cube([1, 2, 3, 4, 5]))\n",
    "\n",
    "print(square.__name__) # 'square' is 'inner_func' loaded with original_function square\n",
    "print(cube.__name__) # 'cube' is 'inner_func' loaded with original_function cube"
   ],
   "outputs": [
    {
     "output_type": "stream",
     "name": "stdout",
     "text": [
      "[1, 4, 9, 16, 25]\n",
      "[1, 8, 27, 64, 125]\n",
      "inner_func\n",
      "inner_func\n"
     ]
    }
   ],
   "metadata": {}
  },
  {
   "cell_type": "markdown",
   "source": [
    "## Decorators turn the given function into the wrapper function inside the decorator function  \n",
    "The wrapper function generally adds a additional functionality to the the function which is being decorated as shown in the below example.  \n",
    "or it can also change the function all together as demonstrated above."
   ],
   "metadata": {}
  },
  {
   "cell_type": "code",
   "execution_count": 22,
   "source": [
    "def decorator_func(original_func):\n",
    "    def wrapper_func(*args, **kwargs):\n",
    "        print(\"Wrapper function ran before {}\".format(original_func.__name__))\n",
    "        return original_func(*args, **kwargs)\n",
    "    return wrapper_func\n",
    "\n",
    "\n",
    "@decorator_func\n",
    "def my_disp_display():\n",
    "    print(\"display function ran\")\n",
    "\n",
    "\n",
    "@decorator_func\n",
    "def my_sum(x, y):\n",
    "    print(\"The sum of {} and {} is\".format(x, y), x+y)\n",
    "\n",
    "my_disp_display()\n",
    "my_sum(5, 3)\n"
   ],
   "outputs": [
    {
     "output_type": "stream",
     "name": "stdout",
     "text": [
      "Wrapper function ran before my_disp_display\n",
      "display function ran\n",
      "Wrapper function ran before my_sum\n",
      "The sum of 5 and 3 is 8\n"
     ]
    }
   ],
   "metadata": {}
  },
  {
   "cell_type": "markdown",
   "source": [
    "There is Something called as a <Strong> decorator class </strong>\n",
    "we'll see that below:"
   ],
   "metadata": {}
  },
  {
   "cell_type": "markdown",
   "source": [],
   "metadata": {}
  },
  {
   "cell_type": "code",
   "execution_count": 23,
   "source": [
    "class decorator_class:\n",
    "    def __init__(self, original_func):\n",
    "        self.original_function = original_func\n",
    "    def __call__(self):\n",
    "        print(\"Executing before the actual function\")\n",
    "        return self.original_function()\n",
    "\n",
    "\n",
    "    def HELLO_WORLD(self):\n",
    "        def inner_function(txt):\n",
    "            print(txt)\n",
    "            self.original_function()\n",
    "\n",
    "        return inner_function # returning inner_function non-executed.\n",
    "\n",
    "def hello_world():\n",
    "    print(\"Hello world\")\n",
    "\n",
    "object = decorator_class(hello_world)\n",
    "hello_world = object.HELLO_WORLD()\n",
    "\n",
    "hello_world(\"Ho! Ho! Ho!\")"
   ],
   "outputs": [
    {
     "output_type": "stream",
     "name": "stdout",
     "text": [
      "Ho! Ho! Ho!\n",
      "Hello world\n"
     ]
    }
   ],
   "metadata": {}
  },
  {
   "cell_type": "code",
   "execution_count": 30,
   "source": [
    "class decorator_class:\n",
    "\n",
    "    @staticmethod\n",
    "    def decorator_function(txt):\n",
    "        def Hello_World(original_function):\n",
    "            def inner_function(display_text, display_text2):\n",
    "                print(txt)\n",
    "                original_function(display_text, display_text2)\n",
    "\n",
    "            return inner_function # returning inner_function non-executed.\n",
    "        return Hello_World\n",
    "\n",
    "obj = decorator_class()\n",
    "\n",
    "@obj.decorator_function(\"Ho! Ho! Ho!\")\n",
    "def display_func(display_text, display_text2):\n",
    "    print(display_text, display_text2)\n",
    "\n",
    "display_func(\"Hello World\", \"Hello Yeshwanth\")"
   ],
   "outputs": [
    {
     "output_type": "stream",
     "name": "stdout",
     "text": [
      "Ho! Ho! Ho!\n",
      "Hello World Hello Yeshwanth\n"
     ]
    }
   ],
   "metadata": {}
  },
  {
   "cell_type": "markdown",
   "source": [
    "## flask's application has something similar to the example above"
   ],
   "metadata": {}
  }
 ],
 "metadata": {
  "orig_nbformat": 4,
  "language_info": {
   "name": "python",
   "version": "3.9.5",
   "mimetype": "text/x-python",
   "codemirror_mode": {
    "name": "ipython",
    "version": 3
   },
   "pygments_lexer": "ipython3",
   "nbconvert_exporter": "python",
   "file_extension": ".py"
  },
  "kernelspec": {
   "name": "python3",
   "display_name": "Python 3.9.5 64-bit"
  },
  "interpreter": {
   "hash": "916dbcbb3f70747c44a77c7bcd40155683ae19c65e1c03b4aa3499c5328201f1"
  }
 },
 "nbformat": 4,
 "nbformat_minor": 2
}